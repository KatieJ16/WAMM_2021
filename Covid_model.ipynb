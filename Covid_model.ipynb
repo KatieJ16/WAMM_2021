{
 "cells": [
  {
   "cell_type": "markdown",
   "metadata": {},
   "source": [
    "# Covid model\n",
    "This project is for WAMM 2021 done by Hinda Nguyen and Katie Johnston"
   ]
  },
  {
   "cell_type": "code",
   "execution_count": null,
   "metadata": {},
   "outputs": [],
   "source": [
    "#import libraries that might be useful\n",
    "import numpy as np\n",
    "import matplotlib.pyplot as plt\n",
    "import random"
   ]
  },
  {
   "cell_type": "code",
   "execution_count": null,
   "metadata": {},
   "outputs": [],
   "source": [
    "#define some variables that will be useful\n",
    "total_pop = 1e6 #how many people in our population\n",
    "people = [total_pop - 1, 1, 0] #total number of people in each group, S I R\n",
    "\n",
    "people_interact = 10 #how many people everyone interacts with everyday\n",
    "infect_chance = 0.5 #chance get infected after interaction\n",
    "days_infectious = 5 #number of days an infected person can infect other people\n",
    "\n",
    "\n",
    "##what other variables might we need"
   ]
  },
  {
   "cell_type": "code",
   "execution_count": null,
   "metadata": {},
   "outputs": [],
   "source": [
    "def one_day(people):\n",
    "    #Run 1 day of simulation\n",
    "    #people will interact with people_interact number of people and then may or may not be infected\n",
    "    \n",
    "    #could change people array as needed for new number of infections, ... or make new variable\n",
    "    return people\n",
    "\n",
    "#what are some other functions that might be useful for our simulation"
   ]
  }
 ],
 "metadata": {
  "kernelspec": {
   "display_name": "Python 3",
   "language": "python",
   "name": "python3"
  },
  "language_info": {
   "codemirror_mode": {
    "name": "ipython",
    "version": 3
   },
   "file_extension": ".py",
   "mimetype": "text/x-python",
   "name": "python",
   "nbconvert_exporter": "python",
   "pygments_lexer": "ipython3",
   "version": "3.8.5"
  }
 },
 "nbformat": 4,
 "nbformat_minor": 4
}
