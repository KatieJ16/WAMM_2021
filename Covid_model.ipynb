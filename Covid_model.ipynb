{
 "cells": [
  {
   "cell_type": "markdown",
   "metadata": {},
   "source": [
    "# Covid model\n",
    "This project is for WAMM 2021 done by Hinda Nguyen and Katie Johnston"
   ]
  },
  {
   "cell_type": "code",
   "execution_count": 64,
   "metadata": {},
   "outputs": [],
   "source": [
    "#import libraries that might be useful\n",
    "import numpy as np\n",
    "import matplotlib.pyplot as plt\n",
    "import random\n",
    "from scipy.integrate import odeint"
   ]
  },
  {
   "cell_type": "code",
   "execution_count": 65,
   "metadata": {},
   "outputs": [],
   "source": [
    "#define some variables that will be useful\n",
    "total_pop = 1e6 #how many people in our population\n",
    "people = [total_pop - 1, 1, 0] #total number of people in each group, S I R\n",
    "\n",
    "people_interact = total_pop*.2 #how many people everyone interacts with everyday\n",
    "infect_chance = 0.5 #chance get infected after interaction\n",
    "days_infectious = 10 #number of days an infected person can infect other people\n",
    "\n",
    "##what other variables might we need"
   ]
  },
  {
   "cell_type": "code",
   "execution_count": 66,
   "metadata": {},
   "outputs": [],
   "source": [
    "def one_day(people):\n",
    "    #Run 1 day of simulation\n",
    "    #people will interact with people_interact number of people and then may or may not be infected\n",
    "    for n in range(int(people_interact)):\n",
    "        coin_toss=random.randint(0,1)\n",
    "        if coin_toss==1:\n",
    "            people[0]-=1\n",
    "            people[1]+=1\n",
    "        else:\n",
    "            people[0]-=0                \n",
    "            people[1]+=0\n",
    "    #could change people array as needed for new number of infections, ... or make new variable\n",
    "    return people\n",
    "\n",
    "#what are some other functions that might be useful for our simulation"
   ]
  },
  {
   "cell_type": "code",
   "execution_count": 67,
   "metadata": {},
   "outputs": [
    {
     "name": "stdout",
     "output_type": "stream",
     "text": [
      "[ 100238.  199860.  300407.  399840.  499455.  599561.  699336.  799544.\n",
      "  899848.  999849. 1099611. 1199684. 1299978. 1400207.]\n",
      "[-400207.0, 1299969.0, 100238.0]\n"
     ]
    }
   ],
   "source": [
    "people_infected=np.zeros((14))\n",
    "def fourteen_days(people):#runs 14 days of simulation and stores number of infected people in an array\n",
    "    for n in range(14):\n",
    "        one_day(people)\n",
    "        people_infected[n]=people[1]\n",
    "    return people_infected\n",
    "print(fourteen_days(people))\n",
    "\n",
    "#not sure how to shift list and add new entry \n",
    "people[2]=people_infected[0]\n",
    "people[1]-=people_infected[0]\n",
    "print(people)"
   ]
  },
  {
   "cell_type": "code",
   "execution_count": 68,
   "metadata": {},
   "outputs": [],
   "source": [
    "def one_day_ideal(people):\n",
    "    #Run 1 day of simulation\n",
    "    #people will interact with people_interact number of people and then may or may not be infected\n",
    "    people[0]-=people_interact*infect_chance\n",
    "    people[1]+=people_interact*infect_chance\n",
    "    #could change people array as needed for new number of infections, ... or make new variable\n",
    "    return people\n",
    "\n",
    "#what are some other functions that might be useful for our simulation"
   ]
  },
  {
   "cell_type": "code",
   "execution_count": 60,
   "metadata": {},
   "outputs": [
    {
     "name": "stdout",
     "output_type": "stream",
     "text": [
      "0.2\n"
     ]
    },
    {
     "data": {
      "image/png": "[encoded data removed]",
      "text/plain": [
       "<Figure size 432x288 with 1 Axes>"
      ]
     },
     "metadata": {
      "needs_background": "light"
     },
     "output_type": "display_data"
    }
   ],
   "source": [
    "#taken from https://scipython.com/book/chapter-8-scipy/additional-examples/the-sir-epidemic-model/\n",
    "\n",
    "# Total population, N.\n",
    "N = total_pop\n",
    "t_max = 365\n",
    "# Initial number of infected and recovered individuals, I0 and R0.\n",
    "I0, R0 = 1, 0\n",
    "# Everyone else, S0, is susceptible to infection initially.\n",
    "S0 = N - I0 - R0\n",
    "# Contact rate, beta, and mean recovery rate, gamma, (in 1/days).\n",
    "beta = people_interact/total_pop\n",
    "print(beta)\n",
    "gamma = 1./days_infectious\n",
    "# A grid of time points (in days)\n",
    "t = np.arange(0,t_max, 1)\n",
    "\n",
    "# The SIR model differential equations.\n",
    "def deriv(y, t, N, beta, gamma):\n",
    "    S, I, R = y\n",
    "    dSdt = -beta * S * I / N\n",
    "    dIdt = beta * S * I / N - gamma * I\n",
    "    dRdt = gamma * I\n",
    "    return dSdt, dIdt, dRdt\n",
    "\n",
    "# Initial conditions vector\n",
    "y0 = S0, I0, R0\n",
    "# Integrate the SIR equations over the time grid, t.\n",
    "ret = odeint(deriv, y0, t, args=(N, beta, gamma))\n",
    "S, I, R = ret.T\n",
    "\n",
    "# Plot the data on three separate curves for S(t), I(t) and R(t)\n",
    "fig = plt.figure()\n",
    "plt.plot(t, S/1000, 'b', alpha=0.5, lw=2, label='Susceptible')\n",
    "plt.plot(t, I/1000, 'r', alpha=0.5, lw=2, label='Infected')\n",
    "plt.plot(t, R/1000, 'g', alpha=0.5, lw=2, label='Recovered with immunity')\n",
    "plt.xlabel('Time (days)')\n",
    "plt.ylabel('Number (1000s)')\n",
    "plt.legend()\n",
    "plt.show()"
   ]
  },
  {
   "cell_type": "code",
   "execution_count": null,
   "metadata": {},
   "outputs": [],
   "source": []
  },
  {
   "cell_type": "code",
   "execution_count": null,
   "metadata": {},
   "outputs": [],
   "source": []
  }
 ],
 "metadata": {
  "kernelspec": {
   "display_name": "Python 3",
   "language": "python",
   "name": "python3"
  },
  "language_info": {
   "codemirror_mode": {
    "name": "ipython",
    "version": 3
   },
   "file_extension": ".py",
   "mimetype": "text/x-python",
   "name": "python",
   "nbconvert_exporter": "python",
   "pygments_lexer": "ipython3",
   "version": "3.8.5"
  }
 },
 "nbformat": 4,
 "nbformat_minor": 4
}
