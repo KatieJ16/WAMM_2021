{
 "cells": [
  {
   "cell_type": "markdown",
   "metadata": {},
   "source": [
    "# Covid model\n",
    "This project is for WAMM 2021 done by Hinda Nguyen and Katie Johnston"
   ]
  },
  {
   "cell_type": "code",
   "execution_count": 33,
   "metadata": {},
   "outputs": [],
   "source": [
    "#import libraries that might be useful\n",
    "import numpy as np\n",
    "import matplotlib.pyplot as plt\n",
    "import random\n",
    "from scipy.integrate import odeint"
   ]
  },
  {
   "cell_type": "code",
   "execution_count": 34,
   "metadata": {},
   "outputs": [],
   "source": [
    "#define some variables that will be useful\n",
    "total_pop = 1e6 #how many people in our population\n",
    "people = [total_pop - 1, 1, 0] #total number of people in each group, S I R\n",
    "\n",
    "people_interact = 10#total_pop*.2 #how many people everyone interacts with everyday\n",
    "infect_chance = 0.5 #chance get infected after interaction\n",
    "days_infectious = 10 #number of days an infected person can infect other people\n",
    "\n",
    "##what other variables might we need"
   ]
  },
  {
   "cell_type": "code",
   "execution_count": 35,
   "metadata": {},
   "outputs": [],
   "source": [
    "def one_day(people):\n",
    "    #Run 1 day of simulation\n",
    "    #people will interact with people_interact number of people and then may or may not be infected\n",
    "    for i in range(int(people[1])):\n",
    "        for n in range(int(people_interact)):\n",
    "            rand = random.random()\n",
    "            if( rand < people[0]/total_pop): #suspetible person\n",
    "#                 coin_toss=random.randint(0,1)\n",
    "                if random.random() < infect_chance:\n",
    "#                 if coin_toss==1:\n",
    "                    people[0]-=1\n",
    "                    people[1]+=1\n",
    "#                 else:\n",
    "#                     people[0]-=0                \n",
    "#                     people[1]+=0\n",
    "#             else: #infected\n",
    "#                 pass\n",
    "    #could change people array as needed for new number of infections, ... or make new variable\n",
    "    print(people)\n",
    "    return people\n",
    "\n",
    "#what are some other functions that might be useful for our simulation"
   ]
  },
  {
   "cell_type": "code",
   "execution_count": 36,
   "metadata": {},
   "outputs": [
    {
     "name": "stdout",
     "output_type": "stream",
     "text": [
      "[999993.0, 7, 0]\n",
      "[999955.0, 45, 0]\n",
      "[999723.0, 277, 0]\n",
      "[998305.0, 1695, 0]\n",
      "[989820.0, 10180, 0]\n",
      "[940762.0, 59238, 0]\n",
      "[699956.0, 300044, 0]\n",
      "[156843.0, 843157, 0]\n",
      "[2301.0, 997699, 0]\n",
      "[12.0, 999988, 0]\n",
      "[0.0, 1000000, 0]\n",
      "[7, 45, 277, 1695, 10180, 59238, 300044, 843157, 997699, 999988, 1000000]\n"
     ]
    }
   ],
   "source": [
    "people = [total_pop - 1, 1, 0]\n",
    "people_infected=[]#np.zeros((14))\n",
    "def fourteen_days(people):#runs 14 days of simulation and stores number of infected people in an array\n",
    "    for n in range(14):\n",
    "        one_day(people)\n",
    "        people_infected.append(people[1])\n",
    "        if(people_infected[n] == total_pop): #if everyone gets infected stop\n",
    "            return people_infected\n",
    "    return people_infected\n",
    "# print(fourteen_days(people))\n",
    "people_infected = fourteen_days(people)\n",
    "print(people_infected)\n",
    "        "
   ]
  },
  {
   "cell_type": "code",
   "execution_count": 37,
   "metadata": {},
   "outputs": [
    {
     "name": "stdout",
     "output_type": "stream",
     "text": [
      "[999995.0, 5, 0]\n",
      "[999970.0, 30, 0]\n",
      "[999819.0, 181, 0]\n",
      "[998932.0, 1068, 0]\n",
      "[993596.0, 6404, 0]\n",
      "[962462.0, 37538, 0]\n",
      "[797749.0, 202251, 0]\n",
      "[289935.0, 710065, 0]\n",
      "[8456.0, 991544, 0]\n",
      "[54.0, 999946, 0]\n",
      "[0.0, 1000000, 0]\n",
      "[7, 45, 277, 1695, 10180, 59238, 300044, 843157, 997699, 999988, 1000000, 5, 30, 181, 1068, 6404, 37538, 202251, 710065, 991544, 999946, 1000000]\n"
     ]
    }
   ],
   "source": [
    "people = [total_pop - 1, 1, 0]\n",
    "people_infected_ideal = []#=np.zeros((14))\n",
    "def fourteen_days_ideal(people):#runs 14 days of simulation and stores number of infected people in an array\n",
    "    for n in range(14):\n",
    "        one_day_ideal(people)\n",
    "        people_infected_ideal.append(people[1])\n",
    "        if(people_infected_ideal[n] > total_pop): #if everyone gets infected stop\n",
    "            return people_infected_ideal\n",
    "    return people_infected_ideal\n",
    "# print(fourteen_days(people))\n",
    "people_infected_ideal = fourteen_days(people)\n",
    "print(people_infected)"
   ]
  },
  {
   "cell_type": "code",
   "execution_count": 38,
   "metadata": {},
   "outputs": [
    {
     "name": "stdout",
     "output_type": "stream",
     "text": [
      "[0. 0. 0. 0. 0. 0. 0. 0. 0. 0. 0. 0. 0. 0. 0. 0. 0. 0. 0. 0. 0. 0.]\n",
      "[ 0.00000e+00  0.00000e+00  0.00000e+00  0.00000e+00  0.00000e+00\n",
      "  0.00000e+00  0.00000e+00  0.00000e+00  0.00000e+00  0.00000e+00\n",
      "  7.00000e+00  3.80000e+01  2.32000e+02  1.41800e+03  8.48500e+03\n",
      "  4.90580e+04  2.40806e+05  5.43113e+05  1.54542e+05  2.28900e+03\n",
      "  1.20000e+01 -9.99995e+05  2.50000e+01  1.51000e+02  8.87000e+02\n",
      "  5.33600e+03  3.11340e+04  1.64713e+05  5.07814e+05  2.81479e+05\n",
      "  8.40200e+03  5.40000e+01]\n",
      "[7, 45, 277, 1695, 10180, 59238, 300044, 843157, 997699, 999988, 1000000, 5, 30, 181, 1068, 6404, 37538, 202251, 710065, 991544, 999946, 1000000]\n"
     ]
    }
   ],
   "source": [
    "#ideas for shifting array and then adding new value\n",
    "people_recovered=np.zeros((days_infectious))\n",
    "\n",
    "#want number of people infected each day\n",
    "people_infected_copy= np.zeros(np.array(people_infected).shape)\n",
    "people_infected_copy[0] = people_infected[0]\n",
    "people_infected_copy[1:] = np.array(people_infected[1:])- np.array(people_infected[:-1])\n",
    "\n",
    "# print(people_infected[:-1])\n",
    "# print(people_infected[1:])\n",
    "# print(people_infected_copy)\n",
    "for n in range(len(people_infected)): \n",
    "    people_recovered=np.append(people_recovered,people_infected_copy[0]) #adds the first value in people_infected to people_recovered\n",
    "    people_infected_copy=np.roll(people_infected_copy,-1) #shifts everything in people_infected left\n",
    "    people_infected_copy[-1]=0 #zero is where the new value would be\n",
    "print(people_infected_copy)\n",
    "print(people_recovered)\n",
    "print(people_infected)"
   ]
  },
  {
   "cell_type": "code",
   "execution_count": 41,
   "metadata": {},
   "outputs": [
    {
     "name": "stdout",
     "output_type": "stream",
     "text": [
      "[999993.0, 7, 0]\n"
     ]
    },
    {
     "ename": "IndexError",
     "evalue": "index 0 is out of bounds for axis 0 with size 0",
     "output_type": "error",
     "traceback": [
      "\u001b[1;31m---------------------------------------------------------------------------\u001b[0m",
      "\u001b[1;31mIndexError\u001b[0m                                Traceback (most recent call last)",
      "\u001b[1;32m<ipython-input-41-482bdc577051>\u001b[0m in \u001b[0;36m<module>\u001b[1;34m\u001b[0m\n\u001b[0;32m     15\u001b[0m         \u001b[1;32mreturn\u001b[0m \u001b[0mpeople_infected\u001b[0m\u001b[1;33m\u001b[0m\u001b[1;33m\u001b[0m\u001b[0m\n\u001b[0;32m     16\u001b[0m \u001b[1;31m# print(fourteen_days(people))\u001b[0m\u001b[1;33m\u001b[0m\u001b[1;33m\u001b[0m\u001b[1;33m\u001b[0m\u001b[0m\n\u001b[1;32m---> 17\u001b[1;33m \u001b[0mpeople_infected\u001b[0m \u001b[1;33m=\u001b[0m \u001b[0mfourteen_days\u001b[0m\u001b[1;33m(\u001b[0m\u001b[0mpeople\u001b[0m\u001b[1;33m)\u001b[0m\u001b[1;33m\u001b[0m\u001b[1;33m\u001b[0m\u001b[0m\n\u001b[0m\u001b[0;32m     18\u001b[0m \u001b[0mprint\u001b[0m\u001b[1;33m(\u001b[0m\u001b[0mpeople_infected\u001b[0m\u001b[1;33m)\u001b[0m\u001b[1;33m\u001b[0m\u001b[1;33m\u001b[0m\u001b[0m\n",
      "\u001b[1;32m<ipython-input-41-482bdc577051>\u001b[0m in \u001b[0;36mfourteen_days\u001b[1;34m(people)\u001b[0m\n\u001b[0;32m     10\u001b[0m             \u001b[1;32mreturn\u001b[0m \u001b[0mpeople_infected\u001b[0m\u001b[1;33m\u001b[0m\u001b[1;33m\u001b[0m\u001b[0m\n\u001b[0;32m     11\u001b[0m         \u001b[1;32mfor\u001b[0m \u001b[0mn\u001b[0m \u001b[1;32min\u001b[0m \u001b[0mrange\u001b[0m\u001b[1;33m(\u001b[0m\u001b[0mlen\u001b[0m\u001b[1;33m(\u001b[0m\u001b[0mpeople_infected\u001b[0m\u001b[1;33m)\u001b[0m\u001b[1;33m)\u001b[0m\u001b[1;33m:\u001b[0m\u001b[1;33m\u001b[0m\u001b[1;33m\u001b[0m\u001b[0m\n\u001b[1;32m---> 12\u001b[1;33m             \u001b[0mnp\u001b[0m\u001b[1;33m.\u001b[0m\u001b[0mappend\u001b[0m\u001b[1;33m(\u001b[0m\u001b[0mpeople_recovered\u001b[0m\u001b[1;33m,\u001b[0m\u001b[0mpeople_infected_copy\u001b[0m\u001b[1;33m[\u001b[0m\u001b[1;36m0\u001b[0m\u001b[1;33m]\u001b[0m\u001b[1;33m)\u001b[0m \u001b[1;31m#adds the first value in people_infected to people_recovered\u001b[0m\u001b[1;33m\u001b[0m\u001b[1;33m\u001b[0m\u001b[0m\n\u001b[0m\u001b[0;32m     13\u001b[0m             \u001b[0mnp\u001b[0m\u001b[1;33m.\u001b[0m\u001b[0mroll\u001b[0m\u001b[1;33m(\u001b[0m\u001b[0mpeople_infected_copy\u001b[0m\u001b[1;33m,\u001b[0m\u001b[1;33m-\u001b[0m\u001b[1;36m1\u001b[0m\u001b[1;33m)\u001b[0m \u001b[1;31m#shifts everything in people_infected left\u001b[0m\u001b[1;33m\u001b[0m\u001b[1;33m\u001b[0m\u001b[0m\n\u001b[0;32m     14\u001b[0m             \u001b[0mpeople_infected_copy\u001b[0m\u001b[1;33m[\u001b[0m\u001b[1;33m-\u001b[0m\u001b[1;36m1\u001b[0m\u001b[1;33m]\u001b[0m\u001b[1;33m=\u001b[0m\u001b[1;36m0\u001b[0m \u001b[1;31m#zero is where the new value would be\u001b[0m\u001b[1;33m\u001b[0m\u001b[1;33m\u001b[0m\u001b[0m\n",
      "\u001b[1;31mIndexError\u001b[0m: index 0 is out of bounds for axis 0 with size 0"
     ]
    }
   ],
   "source": [
    "#ideas for combining fourteen_days and people_recovered\n",
    "people = [total_pop - 1, 1, 0]\n",
    "people_infected=[]#np.zeros((14))\n",
    "people_recovered=np.zeros((days_infectious))\n",
    "def fourteen_days(people):#runs 14 days of simulation and stores number of infected people in an array\n",
    "    for n in range(14):\n",
    "        one_day(people)\n",
    "        people_infected.append(people[1])\n",
    "        if(people_infected[n] == total_pop): #if everyone gets infected stop\n",
    "            return people_infected\n",
    "        for n in range(len(people_infected)): \n",
    "            np.append(people_recovered,people_infected_copy[0]) #adds the first value in people_infected to people_recovered\n",
    "            np.roll(people_infected_copy,-1) #shifts everything in people_infected left\n",
    "            people_infected_copy[-1]=0 #zero is where the new value would be\n",
    "        return people_infected\n",
    "# print(fourteen_days(people))\n",
    "people_infected = fourteen_days(people)\n",
    "print(people_infected)"
   ]
  },
  {
   "cell_type": "code",
   "execution_count": null,
   "metadata": {},
   "outputs": [],
   "source": [
    "plt.plot(people_infected, label = \"infected\")\n",
    "plt.plot(people_infected_ideal, label = \"infected ideal\")\n",
    "plt.plot(total_pop - np.array(people_infected), label = \"suspetible\")\n",
    "plt.legend()\n",
    "plt.plot(people_recovered)"
   ]
  },
  {
   "cell_type": "code",
   "execution_count": 11,
   "metadata": {},
   "outputs": [],
   "source": [
    "def one_day_ideal(people):\n",
    "    #Run 1 day of simulation\n",
    "    #people will interact with people_interact number of people and then may or may not be infected\n",
    "    infected = people[1]\n",
    "    sus = people[0]\n",
    "    people[0]-=people_interact*infect_chance*infected*sus/total_pop\n",
    "    people[1]+=people_interact*infect_chance*infected*sus/total_pop\n",
    "    #could change people array as needed for new number of infections, ... or make new variable\n",
    "    return people\n",
    "\n",
    "#what are some other functions that might be useful for our simulation"
   ]
  },
  {
   "cell_type": "code",
   "execution_count": 12,
   "metadata": {},
   "outputs": [
    {
     "name": "stdout",
     "output_type": "stream",
     "text": [
      "5.0\n"
     ]
    },
    {
     "data": {
      "image/png": "[encoded data removed]",
      "text/plain": [
       "<Figure size 432x288 with 1 Axes>"
      ]
     },
     "metadata": {
      "needs_background": "light"
     },
     "output_type": "display_data"
    }
   ],
   "source": [
    "#taken from https://scipython.com/book/chapter-8-scipy/additional-examples/the-sir-epidemic-model/\n",
    "\n",
    "# Total population, N.\n",
    "N = total_pop\n",
    "t_max = 10\n",
    "# Initial number of infected and recovered individuals, I0 and R0.\n",
    "I0, R0 = 1, 0\n",
    "# Everyone else, S0, is susceptible to infection initially.\n",
    "S0 = N - I0 - R0\n",
    "# Contact rate, beta, and mean recovery rate, gamma, (in 1/days).\n",
    "beta = people_interact*infect_chance#people_interact/total_pop\n",
    "print(beta)\n",
    "gamma = 1./days_infectious\n",
    "# A grid of time points (in days)\n",
    "t = np.arange(0,t_max, 1)\n",
    "\n",
    "# The SIR model differential equations.\n",
    "def deriv(y, t, N, beta, gamma):\n",
    "    S, I, R = y\n",
    "    dSdt = -beta * S * I / N\n",
    "    dIdt = beta * S * I / N - gamma * I\n",
    "    dRdt = gamma * I\n",
    "    return dSdt, dIdt, dRdt\n",
    "\n",
    "# Initial conditions vector\n",
    "y0 = S0, I0, R0\n",
    "# Integrate the SIR equations over the time grid, t.\n",
    "ret = odeint(deriv, y0, t, args=(N, beta, gamma))\n",
    "S, I, R = ret.T\n",
    "\n",
    "\n",
    "# Plot the data on three separate curves for S(t), I(t) and R(t)\n",
    "fig = plt.figure()\n",
    "plt.plot(t, S/1000, 'b', alpha=0.5, lw=2, label='Susceptible')\n",
    "plt.plot(t, I/1000, 'r', alpha=0.5, lw=2, label='Infected')\n",
    "plt.plot(t, R/1000, 'g', alpha=0.5, lw=2, label='Recovered with immunity')\n",
    "plt.xlabel('Time (days)')\n",
    "plt.ylabel('Number (1000s)')\n",
    "plt.legend()\n",
    "plt.show()"
   ]
  },
  {
   "cell_type": "code",
   "execution_count": null,
   "metadata": {},
   "outputs": [],
   "source": []
  },
  {
   "cell_type": "code",
   "execution_count": null,
   "metadata": {},
   "outputs": [],
   "source": []
  },
  {
   "cell_type": "code",
   "execution_count": null,
   "metadata": {},
   "outputs": [],
   "source": []
  },
  {
   "cell_type": "code",
   "execution_count": null,
   "metadata": {},
   "outputs": [],
   "source": []
  },
  {
   "cell_type": "code",
   "execution_count": null,
   "metadata": {},
   "outputs": [],
   "source": []
  }
 ],
 "metadata": {
  "kernelspec": {
   "display_name": "Python 3",
   "language": "python",
   "name": "python3"
  },
  "language_info": {
   "codemirror_mode": {
    "name": "ipython",
    "version": 3
   },
   "file_extension": ".py",
   "mimetype": "text/x-python",
   "name": "python",
   "nbconvert_exporter": "python",
   "pygments_lexer": "ipython3",
   "version": "3.8.5"
  }
 },
 "nbformat": 4,
 "nbformat_minor": 4
}
