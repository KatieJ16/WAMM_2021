{
 "cells": [
  {
   "cell_type": "markdown",
   "metadata": {},
   "source": [
    "# Covid model\n",
    "This project is for WAMM 2021 done by Hinda Nguyen and Katie Johnston"
   ]
  },
  {
   "cell_type": "code",
   "execution_count": 1,
   "metadata": {},
   "outputs": [],
   "source": [
    "#import libraries that might be useful\n",
    "import numpy as np\n",
    "import matplotlib.pyplot as plt\n",
    "import random\n",
    "from scipy.integrate import odeint"
   ]
  },
  {
   "cell_type": "code",
   "execution_count": 2,
   "metadata": {},
   "outputs": [],
   "source": [
    "#define some variables that will be useful\n",
    "total_pop = 1e6 \n",
    "people = [total_pop - 1, 1, 0]\n",
    "\n",
    "people_interact = 10\n",
    "infect_chance = 0.5\n",
    "days_infectious = 3 \n"
   ]
  },
  {
   "cell_type": "code",
   "execution_count": 3,
   "metadata": {},
   "outputs": [],
   "source": [
    "def one_day(people):\n",
    "    \n",
    "    infect_today = 0\n",
    "    for i in range(int(people[1])):\n",
    "        for n in range(int(people_interact)):\n",
    "            rand = random.random()\n",
    "            if( rand < people[0]/total_pop): \n",
    "                if random.random() < infect_chance:\n",
    "                    people[0]-=1\n",
    "                    people[1]+=1\n",
    "                    infect_today += 1 \n",
    "    return (people, infect_today)\n"
   ]
  },
  {
   "cell_type": "code",
   "execution_count": 4,
   "metadata": {},
   "outputs": [],
   "source": [
    "people = [total_pop - 1, 1, 0]\n",
    "people_infected=[]\n",
    "def fourteen_days(people):\n",
    "    for n in range(14):\n",
    "        one_day(people)\n",
    "        people_infected.append(people[1])\n",
    "        if(people_infected[n] == total_pop): \n",
    "            return people_infected\n",
    "    return people_infected\n",
    "\n",
    "people_infected = fourteen_days(people)\n",
    "\n",
    "        "
   ]
  },
  {
   "cell_type": "code",
   "execution_count": null,
   "metadata": {},
   "outputs": [],
   "source": [
    "people = [total_pop - 1, 1, 0]\n",
    "people_infected_ideal = []#=np.zeros((14))\n",
    "def fourteen_days_ideal(people):#runs 14 days of simulation and stores number of infected people in an array\n",
    "    for n in range(14):\n",
    "        one_day_ideal(people)\n",
    "        people_infected_ideal.append(people[1])\n",
    "        if(people_infected_ideal[n] > total_pop): #if everyone gets infected stop\n",
    "            return people_infected_ideal\n",
    "    return people_infected_ideal\n",
    "# print(fourteen_days(people))\n",
    "people_infected_ideal = fourteen_days(people)\n",
    "print(people_infected)"
   ]
  },
  {
   "cell_type": "code",
   "execution_count": null,
   "metadata": {},
   "outputs": [],
   "source": [
    "#ideas for shifting array and then adding new value\n",
    "people_recovered=np.zeros((days_infectious))\n",
    "\n",
    "#want number of people infected each day\n",
    "people_infected_copy= np.zeros(np.array(people_infected).shape)\n",
    "people_infected_copy[0] = people_infected[0]\n",
    "people_infected_copy[1:] = np.array(people_infected[1:])- np.array(people_infected[:-1])\n",
    "\n",
    "# print(people_infected[:-1])\n",
    "# print(people_infected[1:])\n",
    "# print(people_infected_copy)\n",
    "for n in range(len(people_infected)): \n",
    "    people_recovered=np.append(people_recovered,people_infected_copy[0]) #adds the first value in people_infected to people_recovered\n",
    "    people_infected_copy=np.roll(people_infected_copy,-1) #shifts everything in people_infected left\n",
    "    people_infected_copy[-1]=0 #zero is where the new value would be\n",
    "print(people_infected_copy)\n",
    "print(people_recovered)\n",
    "print(people_infected)"
   ]
  },
  {
   "cell_type": "code",
   "execution_count": null,
   "metadata": {},
   "outputs": [],
   "source": [
    "#ideas for combining fourteen_days and people_recovered\n",
    "\n",
    "\n",
    "def fourteen_days(people = [total_pop - 1, 1, 0]):\n",
    "    people_all = []\n",
    "    people_all.append(people.copy())\n",
    "    people_infected=np.zeros((days_infectious))\n",
    "    people_infected[-2] = people[1]\n",
    "\n",
    "    for n in range(14):\n",
    "        (people, infect_today) = one_day(people)\n",
    "        \n",
    "        people_infected[-1] = infect_today\n",
    "        \n",
    "        #move people from I to R\n",
    "        people[2] += people_infected[0]\n",
    "        people[1] -= people_infected[0]\n",
    "        people_infected = np.roll(people_infected,-1)\n",
    "        people_infected[-1]=0\n",
    "        \n",
    "        people_all.append(people.copy())\n",
    "        \n",
    "    return np.array(people_all)\n",
    "\n",
    "people_all = fourteen_days()\n"
   ]
  },
  {
   "cell_type": "code",
   "execution_count": null,
   "metadata": {},
   "outputs": [],
   "source": [
    "#graph\n",
    "plt.plot(people_all[:, 0], label = \"S\")\n",
    "plt.plot(people_all[:, 1], label = \"I\")\n",
    "plt.plot(people_all[:, 2], label = \"R\")\n",
    "plt.legend()\n",
    "plt.xlabel(\"Time (days)\")\n",
    "plt.ylabel(\"People (millions)\")"
   ]
  },
  {
   "cell_type": "code",
   "execution_count": null,
   "metadata": {},
   "outputs": [],
   "source": [
    "plt.plot(people_infected, label = \"infected\")\n",
    "plt.plot(people_infected_ideal, label = \"infected ideal\")\n",
    "plt.plot(total_pop - np.array(people_infected), label = \"suspetible\")\n",
    "plt.legend()\n",
    "plt.plot(people_recovered)"
   ]
  },
  {
   "cell_type": "code",
   "execution_count": null,
   "metadata": {},
   "outputs": [],
   "source": [
    "def one_day_ideal(people):\n",
    "    #Run 1 day of simulation\n",
    "    #people will interact with people_interact number of people and then may or may not be infected\n",
    "    infected = people[1]\n",
    "    sus = people[0]\n",
    "    people[0]-=people_interact*infect_chance*infected*sus/total_pop\n",
    "    people[1]+=people_interact*infect_chance*infected*sus/total_pop\n",
    "    #could change people array as needed for new number of infections, ... or make new variable\n",
    "    return people\n",
    "\n",
    "#what are some other functions that might be useful for our simulation"
   ]
  },
  {
   "cell_type": "code",
   "execution_count": null,
   "metadata": {},
   "outputs": [],
   "source": [
    "#taken from https://scipython.com/book/chapter-8-scipy/additional-examples/the-sir-epidemic-model/\n",
    "\n",
    "# Total population, N.\n",
    "N = total_pop\n",
    "t_max = 10\n",
    "# Initial number of infected and recovered individuals, I0 and R0.\n",
    "I0, R0 = 1, 0\n",
    "# Everyone else, S0, is susceptible to infection initially.\n",
    "S0 = N - I0 - R0\n",
    "# Contact rate, beta, and mean recovery rate, gamma, (in 1/days).\n",
    "beta = people_interact*infect_chance#people_interact/total_pop\n",
    "print(beta)\n",
    "gamma = 1./days_infectious\n",
    "# A grid of time points (in days)\n",
    "t = np.arange(0,t_max, 1)\n",
    "\n",
    "# The SIR model differential equations.\n",
    "def deriv(y, t, N, beta, gamma):\n",
    "    S, I, R = y\n",
    "    dSdt = -beta * S * I / N\n",
    "    dIdt = beta * S * I / N - gamma * I\n",
    "    dRdt = gamma * I\n",
    "    return dSdt, dIdt, dRdt\n",
    "\n",
    "# Initial conditions vector\n",
    "y0 = S0, I0, R0\n",
    "# Integrate the SIR equations over the time grid, t.\n",
    "ret = odeint(deriv, y0, t, args=(N, beta, gamma))\n",
    "S, I, R = ret.T\n",
    "\n",
    "\n",
    "# Plot the data on three separate curves for S(t), I(t) and R(t)\n",
    "fig = plt.figure()\n",
    "plt.plot(t, S/1000, 'b', alpha=0.5, lw=2, label='Susceptible')\n",
    "plt.plot(t, I/1000, 'r', alpha=0.5, lw=2, label='Infected')\n",
    "plt.plot(t, R/1000, 'g', alpha=0.5, lw=2, label='Recovered with immunity')\n",
    "plt.xlabel('Time (days)')\n",
    "plt.ylabel('Number (1000s)')\n",
    "plt.legend()\n",
    "plt.show()"
   ]
  },
  {
   "cell_type": "code",
   "execution_count": null,
   "metadata": {},
   "outputs": [],
   "source": []
  },
  {
   "cell_type": "code",
   "execution_count": null,
   "metadata": {},
   "outputs": [],
   "source": []
  },
  {
   "cell_type": "code",
   "execution_count": null,
   "metadata": {},
   "outputs": [],
   "source": []
  },
  {
   "cell_type": "code",
   "execution_count": null,
   "metadata": {},
   "outputs": [],
   "source": []
  },
  {
   "cell_type": "code",
   "execution_count": null,
   "metadata": {},
   "outputs": [],
   "source": []
  }
 ],
 "metadata": {
  "kernelspec": {
   "display_name": "Python 3",
   "language": "python",
   "name": "python3"
  },
  "language_info": {
   "codemirror_mode": {
    "name": "ipython",
    "version": 3
   },
   "file_extension": ".py",
   "mimetype": "text/x-python",
   "name": "python",
   "nbconvert_exporter": "python",
   "pygments_lexer": "ipython3",
   "version": "3.8.5"
  }
 },
 "nbformat": 4,
 "nbformat_minor": 4
}
